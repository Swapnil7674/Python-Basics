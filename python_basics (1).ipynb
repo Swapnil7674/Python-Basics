{
  "nbformat": 4,
  "nbformat_minor": 0,
  "metadata": {
    "colab": {
      "provenance": []
    },
    "kernelspec": {
      "name": "python3",
      "display_name": "Python 3"
    },
    "language_info": {
      "name": "python"
    }
  },
  "cells": [
    {
      "cell_type": "markdown",
      "source": [
        "**PYTHON BASICS QUESTIONS(THEORITICAL)**"
      ],
      "metadata": {
        "id": "Ak2GZW5pJBG2"
      }
    },
    {
      "cell_type": "markdown",
      "source": [
        "1. What is Python, and why is it popular?\n",
        "\n",
        "Answer: Python is a high-level, interpreted programming language known for its simplicity and readability. It is popular due to its versatility, extensive libraries, and community support.\n",
        "\n",
        " 2. What is an interpreter in Python?\n",
        "\n",
        "Answer: An interpreter in Python is a program that executes Python code line by line, making it easier to debug and test code quickly.\n",
        "\n",
        " 3. What are pre-defined keywords in Python?\n",
        "\n",
        "Answer: Pre-defined keywords in Python are reserved words that have special meanings in the language, such as False      await      else ,      import,     pass  \n",
        "None  ,     break  ,    except ,    in ,        raise  \n",
        "True   ,    class    ,  finally  ,  is       ,  return  \n",
        "and    ,    continue ,  for    ,    lambda  ,   try  \n",
        "as     ,    def    ,    from   ,    nonlocal ,  while  \n",
        "assert  ,   del   ,     global  ,   not   ,     with  \n",
        "async   ,   elif   ,    if   ,      or    ,     yield  \n",
        "\n",
        " 4. Can keywords be used as variable names?\n",
        "\n",
        "Answer: No, keywords cannot be used as variable names because they are reserved for specific functionalities in Python.\n",
        "\n",
        " 5. What is mutability in Python?\n",
        "\n",
        "Answer: Mutability refers to whether an object's state can be changed after creation. Mutable objects can be modified, whereas immutable objects cannot be changed once created.\n",
        "\n",
        " 6. Why are lists mutable, but tuples are immutable?\n",
        "\n",
        "Answer: Lists are mutable because they allow modifications such as adding, removing, or changing elements. Tuples are immutable, meaning their values cannot be changed after initialization.\n",
        "\n",
        " 7. What is the difference between `==` and `is` operators in Python?\n",
        "\n",
        "Answer: The `==` operator checks for value equality, while the `is` operator checks whether two variables refer to the same object in memory.\n",
        "\n",
        " 8. What are logical operators in Python?\n",
        "\n",
        "Answer: Logical operators perform logical operations on Boolean values. They include:\n",
        "   - `and`: Returns `True` if both operands are `True`.\n",
        "   - `or`: Returns `True` if at least one operand is `True`.\n",
        "   - `not`: Negates the Boolean value.\n",
        "\n",
        " 9. What is type casting in Python?\n",
        "\n",
        "Answer: Type casting is converting one data type to another, such as converting an integer to a string using `str()`.\n",
        "\n",
        " 10. What is the difference between implicit and explicit type casting?\n",
        "\n",
        "Answer:\n",
        "   - Implicit type casting: Python automatically converts one data type to another (e.g., `int` to `float`).\n",
        "   - Explicit type casting: The user manually converts data types using functions like `int()`, `float()`, and `str()`.\n",
        "\n",
        " 11. What is the purpose of conditional statements in Python?\n",
        "\n",
        "Answer: Conditional statements (`if`, `elif`, `else`) control the flow of execution based on conditions, allowing different code blocks to run based on logic.\n",
        "\n",
        " 12. How does the `elif` statement work?\n",
        "\n",
        "Answer: The `elif` statement checks multiple conditions after an `if`. If the `if` condition is `False`, it evaluates the `elif` conditions in sequence.\n",
        "\n",
        " 13. What is the difference between `for` and `while` loops?\n",
        "\n",
        "Answer:\n",
        "   - `for` loops iterate over a sequence (like a list or range) for a fixed number of times.\n",
        "   - `while` loops execute as long as a specified condition remains `True`.\n",
        "\n",
        " 14. Describe a scenario where a `while` loop is more suitable than a `for` loop.\n",
        "\n",
        "Answer: A `while` loop is more suitable when the number of iterations is not known beforehand, such as continuously prompting a user for input until they enter a valid response."
      ],
      "metadata": {
        "id": "Yyi0xW56JXRc"
      }
    },
    {
      "cell_type": "markdown",
      "source": [
        "PRACTICAL **QUESTIONS**"
      ],
      "metadata": {
        "id": "IKWoqGMMJLGo"
      }
    },
    {
      "cell_type": "markdown",
      "source": [
        "1.Write a Python program to print \"Hello, World!\""
      ],
      "metadata": {
        "id": "JSHOYvmZ_llZ"
      }
    },
    {
      "cell_type": "code",
      "source": [
        "print(\"Hellow world!\")"
      ],
      "metadata": {
        "colab": {
          "base_uri": "https://localhost:8080/"
        },
        "id": "hAPr36WR_cV3",
        "outputId": "89263be5-54e4-4eab-e4e9-2974721f9ad4"
      },
      "execution_count": null,
      "outputs": [
        {
          "output_type": "stream",
          "name": "stdout",
          "text": [
            "Hellow world!\n"
          ]
        }
      ]
    },
    {
      "cell_type": "markdown",
      "source": [
        "2. Write a Python program that displays your name and age"
      ],
      "metadata": {
        "id": "wkbyjSzC_-CH"
      }
    },
    {
      "cell_type": "code",
      "source": [
        "name= \"swapnil\"\n",
        "age=27\n",
        "\n",
        "print(\"my name is {} and i am {} years old\".format(name,age))"
      ],
      "metadata": {
        "colab": {
          "base_uri": "https://localhost:8080/"
        },
        "id": "wjG0BVJR--gq",
        "outputId": "f5bfcfdc-6d03-426b-f869-8c8300954a47"
      },
      "execution_count": null,
      "outputs": [
        {
          "output_type": "stream",
          "name": "stdout",
          "text": [
            "my name is swapnil and i am 27 years old\n"
          ]
        }
      ]
    },
    {
      "cell_type": "markdown",
      "source": [
        "3.  Write code to print all the pre-defined keywords in Python using the keyword library"
      ],
      "metadata": {
        "id": "r6UHCr-fAjsh"
      }
    },
    {
      "cell_type": "code",
      "execution_count": null,
      "metadata": {
        "colab": {
          "base_uri": "https://localhost:8080/"
        },
        "id": "-kHc5DvV933P",
        "outputId": "381b5bcc-f97e-4eb8-bbb5-68567cd0ee34"
      },
      "outputs": [
        {
          "output_type": "stream",
          "name": "stdout",
          "text": [
            "False\n",
            "None\n",
            "True\n",
            "and\n",
            "as\n",
            "assert\n",
            "async\n",
            "await\n",
            "break\n",
            "class\n",
            "continue\n",
            "def\n",
            "del\n",
            "elif\n",
            "else\n",
            "except\n",
            "finally\n",
            "for\n",
            "from\n",
            "global\n",
            "if\n",
            "import\n",
            "in\n",
            "is\n",
            "lambda\n",
            "nonlocal\n",
            "not\n",
            "or\n",
            "pass\n",
            "raise\n",
            "return\n",
            "try\n",
            "while\n",
            "with\n",
            "yield\n"
          ]
        }
      ],
      "source": [
        "import keyword\n",
        "kwl = keyword.kwlist\n",
        "for i in kwl:\n",
        "  print(i)"
      ]
    },
    {
      "cell_type": "markdown",
      "source": [
        "4. Write a program that checks if a given word is a Python keyword."
      ],
      "metadata": {
        "id": "BojMFh64ByR7"
      }
    },
    {
      "cell_type": "code",
      "source": [
        "word= input(\"Enter the word: \")\n",
        "if word in kwl:\n",
        "  print(\"it is a keyword\")\n",
        "else:\n",
        "  print(\"it is not a keyword\")\n"
      ],
      "metadata": {
        "colab": {
          "base_uri": "https://localhost:8080/"
        },
        "id": "SP2NFy5DBRI0",
        "outputId": "58a4bf03-6ea9-4519-a553-dec827d15302"
      },
      "execution_count": null,
      "outputs": [
        {
          "output_type": "stream",
          "name": "stdout",
          "text": [
            "Enter the word: swap\n",
            "it is not a keyword\n"
          ]
        }
      ]
    },
    {
      "cell_type": "code",
      "source": [
        "word= input(\"Enter the word: \")\n",
        "if word in kwl:\n",
        "  print(\"it is a keyword\")\n",
        "else:\n",
        "  print(\"it is not a keyword\")"
      ],
      "metadata": {
        "colab": {
          "base_uri": "https://localhost:8080/"
        },
        "id": "ekXGmzJzCgFQ",
        "outputId": "96cbbc7f-06b3-4823-c472-c3d35fc00693"
      },
      "execution_count": null,
      "outputs": [
        {
          "output_type": "stream",
          "name": "stdout",
          "text": [
            "Enter the word: False\n",
            "it is a keyword\n"
          ]
        }
      ]
    },
    {
      "cell_type": "markdown",
      "source": [
        "5.Create a list and tuple in Python, and demonstrate how attempting to change an element works differently\n",
        "for each."
      ],
      "metadata": {
        "id": "nNDqD01bDiQf"
      }
    },
    {
      "cell_type": "code",
      "source": [
        "list1 = kwl.copy()\n",
        "tuple1 = tuple(list1)\n",
        "print(f\"list1: {list1}\")\n",
        "print(f\"tuple1: {tuple1}\")"
      ],
      "metadata": {
        "colab": {
          "base_uri": "https://localhost:8080/"
        },
        "id": "cOedPtH3DSHE",
        "outputId": "05f09ab2-b15b-426a-95a1-5e6e4357d283"
      },
      "execution_count": null,
      "outputs": [
        {
          "output_type": "stream",
          "name": "stdout",
          "text": [
            "list1: ['False', 'None', 'True', 'and', 'as', 'assert', 'async', 'await', 'break', 'class', 'continue', 'def', 'del', 'elif', 'else', 'except', 'finally', 'for', 'from', 'global', 'if', 'import', 'in', 'is', 'lambda', 'nonlocal', 'not', 'or', 'pass', 'raise', 'return', 'try', 'while', 'with', 'yield']\n",
            "tuple1: ('False', 'None', 'True', 'and', 'as', 'assert', 'async', 'await', 'break', 'class', 'continue', 'def', 'del', 'elif', 'else', 'except', 'finally', 'for', 'from', 'global', 'if', 'import', 'in', 'is', 'lambda', 'nonlocal', 'not', 'or', 'pass', 'raise', 'return', 'try', 'while', 'with', 'yield')\n"
          ]
        }
      ]
    },
    {
      "cell_type": "code",
      "source": [
        "list1.remove(\"False\")\n",
        "print(list1)"
      ],
      "metadata": {
        "colab": {
          "base_uri": "https://localhost:8080/"
        },
        "id": "HcT9raNnD4EP",
        "outputId": "00aec5bf-0bf3-483f-f5fb-2006de65b72a"
      },
      "execution_count": null,
      "outputs": [
        {
          "output_type": "stream",
          "name": "stdout",
          "text": [
            "['None', 'True', 'and', 'as', 'assert', 'async', 'await', 'break', 'class', 'continue', 'def', 'del', 'elif', 'else', 'except', 'finally', 'for', 'from', 'global', 'if', 'import', 'in', 'is', 'lambda', 'nonlocal', 'not', 'or', 'pass', 'raise', 'return', 'try', 'while', 'with', 'yield']\n"
          ]
        }
      ]
    },
    {
      "cell_type": "markdown",
      "source": [
        "list is mutable"
      ],
      "metadata": {
        "id": "uanfHHhTEOWD"
      }
    },
    {
      "cell_type": "code",
      "source": [
        "tuple1.remove(\"False\")"
      ],
      "metadata": {
        "colab": {
          "base_uri": "https://localhost:8080/",
          "height": 141
        },
        "id": "bpkL0NwaEL1z",
        "outputId": "5404dacd-0826-4773-863d-8d532ed91b78"
      },
      "execution_count": null,
      "outputs": [
        {
          "output_type": "error",
          "ename": "AttributeError",
          "evalue": "'tuple' object has no attribute 'remove'",
          "traceback": [
            "\u001b[0;31m---------------------------------------------------------------------------\u001b[0m",
            "\u001b[0;31mAttributeError\u001b[0m                            Traceback (most recent call last)",
            "\u001b[0;32m<ipython-input-22-09833d80ae10>\u001b[0m in \u001b[0;36m<cell line: 0>\u001b[0;34m()\u001b[0m\n\u001b[0;32m----> 1\u001b[0;31m \u001b[0mtuple1\u001b[0m\u001b[0;34m.\u001b[0m\u001b[0mremove\u001b[0m\u001b[0;34m(\u001b[0m\u001b[0;34m\"False\"\u001b[0m\u001b[0;34m)\u001b[0m\u001b[0;34m\u001b[0m\u001b[0;34m\u001b[0m\u001b[0m\n\u001b[0m",
            "\u001b[0;31mAttributeError\u001b[0m: 'tuple' object has no attribute 'remove'"
          ]
        }
      ]
    },
    {
      "cell_type": "markdown",
      "source": [
        "tuple is immutable"
      ],
      "metadata": {
        "id": "7Qutxlk6Eivt"
      }
    },
    {
      "cell_type": "markdown",
      "source": [],
      "metadata": {
        "id": "DsVXy7tLEltz"
      }
    },
    {
      "cell_type": "markdown",
      "source": [
        "6. Write a function to demonstrate the behavior of mutable and immutable arguments\n"
      ],
      "metadata": {
        "id": "RYJ52HN7h1ti"
      }
    },
    {
      "cell_type": "code",
      "source": [
        "def demonstrate_mutable_immutable(num, num_list):\n",
        "    \"\"\"\n",
        "    Demonstrates the behavior of mutable and immutable arguments in Python.\n",
        "\n",
        "    :param num: An integer (immutable type)\n",
        "    :param num_list: A list (mutable type)\n",
        "    \"\"\"\n",
        "    print(\"Before modification:\")\n",
        "    print(f\"num (immutable): {num}\")\n",
        "    print(f\"num_list (mutable): {num_list}\")\n",
        "\n",
        "    # Modify the integer (immutable type)\n",
        "    num += 10  # This creates a new integer object, doesn't modify the original\n",
        "\n",
        "    # Modify the list (mutable type)\n",
        "    num_list.append(10)  # This modifies the original list\n",
        "\n",
        "    print(\"After modification:\")\n",
        "    print(f\"num (immutable): {num}\")\n",
        "    print(f\"num_list (mutable): {num_list}\")\n",
        "\n",
        "# Example usage\n",
        "num = 5\n",
        "num_list = [1, 2, 3]\n",
        "demonstrate_mutable_immutable(num, num_list)\n",
        "\n",
        "print(\"\\nOutside function:\")\n",
        "print(f\"num (unchanged due to immutability): {num}\")\n",
        "print(f\"num_list (changed due to mutability): {num_list}\")"
      ],
      "metadata": {
        "id": "Mf6cvcxIEgXY",
        "colab": {
          "base_uri": "https://localhost:8080/"
        },
        "outputId": "c6d0ace6-92af-4b21-ea11-0537a1d9a9d4"
      },
      "execution_count": null,
      "outputs": [
        {
          "output_type": "stream",
          "name": "stdout",
          "text": [
            "Before modification:\n",
            "num (immutable): 5\n",
            "num_list (mutable): [1, 2, 3]\n",
            "After modification:\n",
            "num (immutable): 15\n",
            "num_list (mutable): [1, 2, 3, 10]\n",
            "\n",
            "Outside function:\n",
            "num (unchanged due to immutability): 5\n",
            "num_list (changed due to mutability): [1, 2, 3, 10]\n"
          ]
        }
      ]
    },
    {
      "cell_type": "markdown",
      "source": [
        "7. Write a program that performs basic arithmetic operations on two user-input numbers."
      ],
      "metadata": {
        "id": "JT1Iqzmik1ZC"
      }
    },
    {
      "cell_type": "code",
      "source": [
        "num1 = int(input(\"Enter first number: \"))\n",
        "num2 = int(input(\"Enter second number: \"))\n",
        "\n",
        "print(f\"Addition: {num1} + {num2} = {num1 + num2}\")\n",
        "print(f\"Subtraction: {num1} - {num2} = {num1 - num2}\")\n",
        "print(f\"Multiplication: {num1} * {num2} = {num1 * num2}\")\n",
        "if num2 != 0:\n",
        "    print(f\"Division: {num1} / {num2} = {num1 / num2}\")\n",
        "else:\n",
        "    print(\"Division by zero is not allowed.\")"
      ],
      "metadata": {
        "colab": {
          "base_uri": "https://localhost:8080/"
        },
        "id": "I3kwPPGbjvbs",
        "outputId": "1abfcf2a-87c6-4ec3-9708-844e40507514"
      },
      "execution_count": null,
      "outputs": [
        {
          "output_type": "stream",
          "name": "stdout",
          "text": [
            "Enter first number: 7\n",
            "Enter second number: 2\n",
            "Addition: 7 + 2 = 9\n",
            "Subtraction: 7 - 2 = 5\n",
            "Multiplication: 7 * 2 = 14\n",
            "Division: 7 / 2 = 3.5\n"
          ]
        }
      ]
    },
    {
      "cell_type": "markdown",
      "source": [
        " 8. Write a Python program to convert user input from string to integer, float, and boolean types"
      ],
      "metadata": {
        "id": "b0TAP-Sbq7WD"
      }
    },
    {
      "cell_type": "code",
      "source": [
        "user_input = input(\"Enter a value: \")\n",
        "int_value = int(user_input)\n",
        "float_value = float(user_input)\n",
        "bool_value = bool(int(user_input))\n",
        "\n",
        "print(f\"Integer: {int_value}\")\n",
        "print(f\"Float: {float_value}\")\n",
        "print(f\"Boolean: {bool_value}\")\n"
      ],
      "metadata": {
        "colab": {
          "base_uri": "https://localhost:8080/"
        },
        "id": "F-VsjqaIqezZ",
        "outputId": "313a7c22-90ca-42b5-c779-d1249699e6ea"
      },
      "execution_count": null,
      "outputs": [
        {
          "output_type": "stream",
          "name": "stdout",
          "text": [
            "Enter a value: 7\n",
            "Integer: 7\n",
            "Float: 7.0\n",
            "Boolean: True\n"
          ]
        }
      ]
    },
    {
      "cell_type": "markdown",
      "source": [
        "9.  Write a program to demonstrate the use of logical operators."
      ],
      "metadata": {
        "id": "rljqaA5rGqSy"
      }
    },
    {
      "cell_type": "code",
      "source": [
        "def logical_operators_demo():\n",
        "    a = True\n",
        "    b = False\n",
        "\n",
        "    print(\"a =\", a, \", b =\", b)\n",
        "\n",
        "    # Logical AND\n",
        "    print(\"a and b:\", a and b)  # False because both need to be True\n",
        "\n",
        "    # Logical OR\n",
        "    print(\"a or b:\", a or b)    # True because at least one is True\n",
        "\n",
        "    # Logical NOT\n",
        "    print(\"not a:\", not a)      # False because it negates True\n",
        "    print(\"not b:\", not b)      # True because it negates False\n",
        "\n",
        "# Run the function\n",
        "logical_operators_demo()\n"
      ],
      "metadata": {
        "colab": {
          "base_uri": "https://localhost:8080/"
        },
        "id": "mZrEvGCtGiEx",
        "outputId": "6edb6b1e-885f-4279-da73-6252909f5f71"
      },
      "execution_count": null,
      "outputs": [
        {
          "output_type": "stream",
          "name": "stdout",
          "text": [
            "a = True , b = False\n",
            "a and b: False\n",
            "a or b: True\n",
            "not a: False\n",
            "not b: True\n"
          ]
        }
      ]
    },
    {
      "cell_type": "markdown",
      "source": [
        "*10*. Write code to demonstrate type casting with list elements."
      ],
      "metadata": {
        "id": "FjWLLRNguGnr"
      }
    },
    {
      "cell_type": "code",
      "source": [
        "str_list = input(\"Enter a list of numbers separated by spaces: \").split()\n",
        "int_list = [int(i) for i in str_list]\n",
        "float_list = [float(i) for i in str_list]\n",
        "bool_list = [bool(int(i)) for i in str_list]\n",
        "\n",
        "print(f\"Original string list: {str_list}\")\n",
        "print(f\"Integer list: {int_list}\")\n",
        "print(f\"Float list: {float_list}\")\n",
        "print(f\"Boolean list: {bool_list}\")"
      ],
      "metadata": {
        "colab": {
          "base_uri": "https://localhost:8080/"
        },
        "id": "9hI11V5VuBoo",
        "outputId": "2d6c178e-9143-4c23-9875-f3921a2c76a9"
      },
      "execution_count": null,
      "outputs": [
        {
          "output_type": "stream",
          "name": "stdout",
          "text": [
            "Enter a list of numbers separated by spaces: 1 2 3 4 5 6 7\n",
            "Original string list: ['1', '2', '3', '4', '5', '6', '7']\n",
            "Integer list: [1, 2, 3, 4, 5, 6, 7]\n",
            "Float list: [1.0, 2.0, 3.0, 4.0, 5.0, 6.0, 7.0]\n",
            "Boolean list: [True, True, True, True, True, True, True]\n"
          ]
        }
      ]
    },
    {
      "cell_type": "markdown",
      "source": [
        "11. Write a program that checks if a number is positive, negative, or zero."
      ],
      "metadata": {
        "id": "N6jnFfksu9pg"
      }
    },
    {
      "cell_type": "code",
      "source": [
        "num_check = float(input(\"Enter a number to check: \"))\n",
        "if num_check > 0:\n",
        "    print(\"The number is positive.\")\n",
        "elif num_check < 0:\n",
        "    print(\"The number is negative.\")\n",
        "else:\n",
        "    print(\"The number is zero.\")"
      ],
      "metadata": {
        "colab": {
          "base_uri": "https://localhost:8080/"
        },
        "id": "QchhTjHPuyg0",
        "outputId": "d1bcdfcf-c2a1-4ba9-e810-d35970589805"
      },
      "execution_count": null,
      "outputs": [
        {
          "output_type": "stream",
          "name": "stdout",
          "text": [
            "Enter a number to check: -10\n",
            "The number is negative.\n"
          ]
        }
      ]
    },
    {
      "cell_type": "markdown",
      "source": [
        "12. Write a for loop to print numbers from 1 to 10."
      ],
      "metadata": {
        "id": "6LZCb1AIvjEC"
      }
    },
    {
      "cell_type": "code",
      "source": [
        "print(\"Numbers from 1 to 10:\")\n",
        "for i in range(1, 11):\n",
        "    print(i)"
      ],
      "metadata": {
        "colab": {
          "base_uri": "https://localhost:8080/"
        },
        "id": "pdyXAXqivbMX",
        "outputId": "dbf6421f-54ad-4334-929d-28628b09edca"
      },
      "execution_count": null,
      "outputs": [
        {
          "output_type": "stream",
          "name": "stdout",
          "text": [
            "Numbers from 1 to 10:\n",
            "1\n",
            "2\n",
            "3\n",
            "4\n",
            "5\n",
            "6\n",
            "7\n",
            "8\n",
            "9\n",
            "10\n"
          ]
        }
      ]
    },
    {
      "cell_type": "markdown",
      "source": [
        "13. Write a Python program to find the sum of all even numbers between 1 and 50"
      ],
      "metadata": {
        "id": "shU3u1scv86M"
      }
    },
    {
      "cell_type": "code",
      "source": [
        "even_sum = sum(i for i in range(1, 51) if i % 2 == 0)\n",
        "print(f\"Sum of all even numbers between 1 and 50: {even_sum}\")\n"
      ],
      "metadata": {
        "colab": {
          "base_uri": "https://localhost:8080/"
        },
        "id": "FSgyBrtnxK10",
        "outputId": "a35df4a9-484c-4437-85d5-979431115178"
      },
      "execution_count": null,
      "outputs": [
        {
          "output_type": "stream",
          "name": "stdout",
          "text": [
            "Sum of all even numbers between 1 and 50: 650\n"
          ]
        }
      ]
    },
    {
      "cell_type": "markdown",
      "source": [
        "14. Write a program to reverse a string using a while loop"
      ],
      "metadata": {
        "id": "yPk9b4M3xu3a"
      }
    },
    {
      "cell_type": "code",
      "source": [
        "string_input = input(\"Enter a string to reverse: \")\n",
        "reversed_string = \"\"\n",
        "index = len(string_input) - 1\n",
        "while index >= 0:\n",
        "    reversed_string += string_input[index]\n",
        "    index -= 1\n",
        "print(f\"Reversed string: {reversed_string}\")\n"
      ],
      "metadata": {
        "id": "fBsD3BE6xUJ7"
      },
      "execution_count": null,
      "outputs": []
    },
    {
      "cell_type": "markdown",
      "source": [
        "15.  Write a Python program to calculate the factorial of a number provided by the user using a while loop."
      ],
      "metadata": {
        "id": "SCqlwcOqythf"
      }
    },
    {
      "cell_type": "code",
      "source": [
        "num_factorial = int(input(\"Enter a number to find its factorial: \"))\n",
        "factorial = 1\n",
        "counter = num_factorial\n",
        "while counter > 0:\n",
        "    factorial *= counter\n",
        "    counter -= 1\n",
        "print(f\"Factorial of {num_factorial} is: {factorial}\")"
      ],
      "metadata": {
        "colab": {
          "base_uri": "https://localhost:8080/"
        },
        "id": "htBSnuNkynWc",
        "outputId": "b48629fa-147e-4451-abd6-816017cc9d28"
      },
      "execution_count": null,
      "outputs": [
        {
          "output_type": "stream",
          "name": "stdout",
          "text": [
            "Enter a number to find its factorial: 7\n",
            "Factorial of 7 is: 5040\n"
          ]
        }
      ]
    },
    {
      "cell_type": "code",
      "source": [],
      "metadata": {
        "id": "gOllsZzIzDaT"
      },
      "execution_count": null,
      "outputs": []
    }
  ]
}